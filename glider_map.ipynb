{
 "cells": [
  {
   "cell_type": "markdown",
   "metadata": {},
   "source": [
    "## Gridding and optimal interpolation\n",
    "\n",
    "### Data: \n",
    "- Monterey Bay Glider line [IOOS Glider DAC](https://gliders.ioos.us/map/#)\n",
    "\n",
    "### Gridding and plotting tools:\n",
    "- [Scipy griddata function](https://docs.scipy.org/doc/scipy/reference/generated/scipy.interpolate.griddata.html)\n",
    "- [Glidertools kriging](https://glidertools.readthedocs.io/en/latest/mapping.html)\n"
   ]
  },
  {
   "cell_type": "code",
   "execution_count": null,
   "metadata": {},
   "outputs": [],
   "source": [
    "%matplotlib widget\n",
    "import numpy as np\n",
    "import pandas as pd\n",
    "import matplotlib.pyplot as plt\n",
    "import cmocean.cm as cmo\n",
    "\n",
    "from scipy.interpolate import griddata\n",
    "import glidertools as gt"
   ]
  },
  {
   "cell_type": "markdown",
   "metadata": {},
   "source": [
    "## Loading and plotting the data"
   ]
  },
  {
   "cell_type": "code",
   "execution_count": null,
   "metadata": {},
   "outputs": [],
   "source": [
    "csv_glider = 'ioos_glider/sp064-20240130T2048_004f_97f4_cbff.csv'\n",
    "df = pd.read_csv(csv_glider, skiprows=[1], parse_dates=[3])"
   ]
  },
  {
   "cell_type": "code",
   "execution_count": null,
   "metadata": {},
   "outputs": [],
   "source": [
    "df"
   ]
  },
  {
   "cell_type": "markdown",
   "metadata": {},
   "source": [
    "Plot the entire dissolved oxygen dataset"
   ]
  },
  {
   "cell_type": "code",
   "execution_count": null,
   "metadata": {},
   "outputs": [],
   "source": [
    "\n"
   ]
  },
  {
   "cell_type": "markdown",
   "metadata": {},
   "source": [
    "#### Exercises\n",
    "\n",
    "- Label the plot above and add a colorbar\n",
    "- Make a plot of time vs. longitude\n",
    "- Identify a time range where the glider conducts one complete transect"
   ]
  },
  {
   "cell_type": "code",
   "execution_count": null,
   "metadata": {},
   "outputs": [],
   "source": [
    "\n"
   ]
  },
  {
   "cell_type": "markdown",
   "metadata": {},
   "source": [
    "### Choosing a subset"
   ]
  },
  {
   "cell_type": "code",
   "execution_count": null,
   "metadata": {},
   "outputs": [],
   "source": [
    "t1_str = # insert string\n",
    "t2_str = # insert string\n",
    "\n",
    "t1 = pd.Timestamp(t1_str, tz='UTC')\n",
    "t2 = pd.Timestamp(t2_str, tz='UTC')\n",
    "\n",
    "time_mask = (df['time'] >= t1) & (df['time'] < t2)\n",
    "\n",
    "dfsub = df.loc[time_mask].dropna(subset=['dissolved_oxygen', 'depth', 'longitude'])"
   ]
  },
  {
   "cell_type": "code",
   "execution_count": null,
   "metadata": {},
   "outputs": [],
   "source": [
    "plt.figure()\n",
    "plt.subplot(3,1,1)\n",
    "plt.scatter(dfsub['longitude'], dfsub['depth'], c=dfsub['temperature'], cmap=cmo.thermal)\n",
    "plt.colorbar()\n",
    "plt.gca().invert_yaxis()\n",
    "plt.xticks([])\n",
    "plt.title('temperature [deg C]')\n",
    "\n",
    "plt.subplot(3,1,2)\n",
    "plt.scatter(dfsub['longitude'], dfsub['depth'], c=dfsub['salinity'], cmap = cmo.haline)\n",
    "plt.colorbar()\n",
    "plt.gca().invert_yaxis()\n",
    "plt.xticks([])\n",
    "plt.title('practical salinity')\n",
    "\n",
    "plt.subplot(3,1,3)\n",
    "plt.scatter(dfsub['longitude'], dfsub['depth'], c=dfsub['dissolved_oxygen'])\n",
    "plt.colorbar()\n",
    "plt.title('dissolved oxygen [$\\mu$mol/kg]')\n",
    "plt.gca().invert_yaxis()\n",
    "\n",
    "plt.tight_layout()"
   ]
  },
  {
   "cell_type": "markdown",
   "metadata": {},
   "source": [
    "#### Exercise\n",
    "- Discuss the plots above with your neighbor. Describe the major features that you notice. What looks like \"noise\" to you?"
   ]
  },
  {
   "cell_type": "markdown",
   "metadata": {},
   "source": [
    "### Set up \n",
    "\n",
    "First define 1-D arrays that contain the original (uninterpolated) data"
   ]
  },
  {
   "cell_type": "code",
   "execution_count": null,
   "metadata": {},
   "outputs": [],
   "source": [
    "var = np.array(dfsub['dissolved_oxygen'])\n",
    "x = np.array(dfsub['longitude'])\n",
    "y = np.array(dfsub['depth'])\n",
    "dive = np.array(dfsub['profile_id'])"
   ]
  },
  {
   "cell_type": "code",
   "execution_count": null,
   "metadata": {},
   "outputs": [],
   "source": []
  },
  {
   "cell_type": "code",
   "execution_count": null,
   "metadata": {},
   "outputs": [],
   "source": []
  },
  {
   "cell_type": "markdown",
   "metadata": {},
   "source": [
    "Now define a \"regular\" grid that you want to interpolate to. This should have evenly spaced values. This same grid will be used for two different interpolation methods."
   ]
  },
  {
   "cell_type": "code",
   "execution_count": null,
   "metadata": {},
   "outputs": [],
   "source": [
    "deltax = # choose a deltax value\n",
    "deltay = # choose a deltay value\n",
    "\n",
    "xg = np.arange(x.min(), x.max(), deltax)\n",
    "yg = np.arange(y.min(), y.max(), deltay)"
   ]
  },
  {
   "cell_type": "code",
   "execution_count": null,
   "metadata": {},
   "outputs": [],
   "source": []
  },
  {
   "cell_type": "code",
   "execution_count": null,
   "metadata": {},
   "outputs": [],
   "source": []
  },
  {
   "cell_type": "markdown",
   "metadata": {},
   "source": [
    "### Method 1: griddata\n",
    "\n",
    "First use meshgrid to create 2D arrays for the x and y grid points."
   ]
  },
  {
   "cell_type": "code",
   "execution_count": null,
   "metadata": {},
   "outputs": [],
   "source": []
  },
  {
   "cell_type": "code",
   "execution_count": null,
   "metadata": {},
   "outputs": [],
   "source": [
    "\n"
   ]
  },
  {
   "cell_type": "code",
   "execution_count": null,
   "metadata": {},
   "outputs": [],
   "source": [
    "\n"
   ]
  },
  {
   "cell_type": "markdown",
   "metadata": {},
   "source": [
    "### Method 2: optimal interpolation (kriging)\n",
    "\n",
    "Use glidertools package to make a semi-variogram. Note that we need to define an option `xy_ratio` because the data are anisotropic (the x and y data have different length scales)."
   ]
  },
  {
   "cell_type": "code",
   "execution_count": null,
   "metadata": {},
   "outputs": [],
   "source": [
    "vargram = gt.mapping.variogram(var, x, y, dive)"
   ]
  },
  {
   "cell_type": "code",
   "execution_count": null,
   "metadata": {},
   "outputs": [],
   "source": [
    "vargram = gt.mapping.variogram(var, x, y, dive, xy_ratio=1)"
   ]
  },
  {
   "cell_type": "markdown",
   "metadata": {},
   "source": [
    "#### Exercise \n",
    "- Manually adjust the `xy_ratio` option until you can identify a well-defined \"sill\" in the semivariogram plot"
   ]
  },
  {
   "cell_type": "code",
   "execution_count": null,
   "metadata": {},
   "outputs": [],
   "source": [
    "vargram"
   ]
  },
  {
   "cell_type": "markdown",
   "metadata": {},
   "source": [
    "The \"sill\" should closely match the overall variance of the dataset. The nugget describes the \"noise\" level at small scales. The values are in terms of variance, or $\\sigma^2$."
   ]
  },
  {
   "cell_type": "code",
   "execution_count": null,
   "metadata": {},
   "outputs": [],
   "source": []
  },
  {
   "cell_type": "code",
   "execution_count": null,
   "metadata": {},
   "outputs": [],
   "source": []
  },
  {
   "cell_type": "markdown",
   "metadata": {},
   "source": [
    "Using the properties of the semivariogram to define the parameters for optimal interpolation (kriging)"
   ]
  },
  {
   "cell_type": "code",
   "execution_count": null,
   "metadata": {},
   "outputs": [],
   "source": [
    "interpolated = gt.mapping.interp_obj(\n",
    "    x, y, var, xg, yg,\n",
    "\n",
    "    # Kriging interoplation arguments\n",
    "    partial_sill=5650,  # taken from the semivariogram (sill - nugget)\n",
    "    nugget=200,  # taken from the semivariogram\n",
    "    lenscale_x=0.41,  # in degrees if x and xg are longitude\n",
    "    lenscale_y=415,  # the vertical gridding influence\n",
    ")"
   ]
  },
  {
   "cell_type": "code",
   "execution_count": null,
   "metadata": {},
   "outputs": [],
   "source": []
  },
  {
   "cell_type": "code",
   "execution_count": null,
   "metadata": {},
   "outputs": [],
   "source": [
    "plt.figure()\n",
    "plt.subplot(3, 1, 1)\n",
    "plt.scatter(x, y, c=var)\n",
    "plt.gca().invert_yaxis()\n",
    "plt.colorbar()\n",
    "xl = plt.xlim()\n",
    "plt.title('original (uninterpolated) data')\n",
    "\n",
    "plt.subplot(3, 1, 2)\n",
    "plt.pcolormesh(interpolated.x, interpolated.y, interpolated.z)\n",
    "plt.colorbar()\n",
    "#plt.contour(interpolated.x, interpolated.y, interpolated.z, cmap='gray')\n",
    "#plt.plot(x, y, 'w.', markersize=0.1)\n",
    "plt.gca().invert_yaxis()\n",
    "plt.xlim(xl)\n",
    "plt.title('interpolated data')\n",
    "\n",
    "plt.subplot(3, 1, 3)\n",
    "plt.pcolormesh(interpolated.x, interpolated.y, interpolated.variance)\n",
    "plt.plot(x, y, 'w.', markersize=0.1)\n",
    "plt.gca().invert_yaxis()\n",
    "plt.colorbar()\n",
    "plt.xlim(xl)\n",
    "plt.title('error (variance)')\n",
    "plt.tight_layout()"
   ]
  },
  {
   "cell_type": "markdown",
   "metadata": {},
   "source": [
    "### Exercises\n",
    "\n",
    "- What are the units for each subplot above?\n",
    "- Choose a parameter in the kriging process above and try alternative values for it. How does it affect your interpolated map? Discuss the results of your experimentation with your neighbor."
   ]
  },
  {
   "cell_type": "markdown",
   "metadata": {},
   "source": []
  }
 ],
 "metadata": {
  "kernelspec": {
   "display_name": "ms263-24",
   "language": "python",
   "name": "python3"
  },
  "language_info": {
   "codemirror_mode": {
    "name": "ipython",
    "version": 3
   },
   "file_extension": ".py",
   "mimetype": "text/x-python",
   "name": "python",
   "nbconvert_exporter": "python",
   "pygments_lexer": "ipython3",
   "version": "3.11.7"
  }
 },
 "nbformat": 4,
 "nbformat_minor": 2
}
